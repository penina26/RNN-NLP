{
  "cells": [
    {
      "cell_type": "markdown",
      "metadata": {
        "id": "view-in-github",
        "colab_type": "text"
      },
      "source": [
        "<a href=\"https://colab.research.google.com/github/penina26/RNN-NLP/blob/main/nlp.ipynb\" target=\"_parent\"><img src=\"https://colab.research.google.com/assets/colab-badge.svg\" alt=\"Open In Colab\"/></a>"
      ]
    },
    {
      "cell_type": "markdown",
      "id": "e0be8057",
      "metadata": {
        "id": "e0be8057"
      },
      "source": [
        "#### import necessary libraries"
      ]
    },
    {
      "cell_type": "code",
      "source": [
        "from google.colab import drive\n",
        "drive.mount('/content/drive')"
      ],
      "metadata": {
        "colab": {
          "base_uri": "https://localhost:8080/"
        },
        "id": "3WZ3NMDSin4e",
        "outputId": "1617a6fc-1cd2-4f8a-ce16-ffd41b482067"
      },
      "id": "3WZ3NMDSin4e",
      "execution_count": 6,
      "outputs": [
        {
          "output_type": "stream",
          "name": "stdout",
          "text": [
            "Mounted at /content/drive\n"
          ]
        }
      ]
    },
    {
      "cell_type": "code",
      "execution_count": 56,
      "id": "c2de526b",
      "metadata": {
        "id": "c2de526b"
      },
      "outputs": [],
      "source": [
        "import numpy as np\n",
        "import pandas as pd\n",
        "import matplotlib.pyplot as plt\n",
        "%matplotlib inline\n",
        "import matplotlib.style as style\n",
        "style.use('ggplot')\n",
        "plt.rcParams['figure.figsize'] = (11, 6)\n",
        "import seaborn as sns\n",
        "import tensorflow as tf\n",
        "from tensorflow.keras.losses import sparse_categorical_crossentropy\n",
        "from tensorflow.keras.models import Sequential\n",
        "from tensorflow.keras.layers import Dense, Embedding,GRU\n",
        "from tensorflow.keras.models import load_model"
      ]
    },
    {
      "cell_type": "markdown",
      "id": "ec9b14f1",
      "metadata": {
        "id": "ec9b14f1"
      },
      "source": [
        "* get the path to the data"
      ]
    },
    {
      "cell_type": "code",
      "execution_count": 13,
      "id": "51a8a93c",
      "metadata": {
        "id": "51a8a93c"
      },
      "outputs": [],
      "source": [
        "path_to_file = \"/content/drive/MyDrive/Colab Notebooks/Tensorflow2/DATA/shakespeare.txt\""
      ]
    },
    {
      "cell_type": "markdown",
      "id": "5bc61a03",
      "metadata": {
        "id": "5bc61a03"
      },
      "source": [
        "* load the data"
      ]
    },
    {
      "cell_type": "code",
      "execution_count": 14,
      "id": "24d80dff",
      "metadata": {
        "id": "24d80dff"
      },
      "outputs": [],
      "source": [
        "text = open(path_to_file, 'r').read()"
      ]
    },
    {
      "cell_type": "markdown",
      "id": "0142b1ae",
      "metadata": {
        "id": "0142b1ae"
      },
      "source": [
        "* chek for unique characters in the text dataset"
      ]
    },
    {
      "cell_type": "code",
      "execution_count": 15,
      "id": "875aa64d",
      "metadata": {
        "colab": {
          "base_uri": "https://localhost:8080/"
        },
        "id": "875aa64d",
        "outputId": "491910de-52b9-47eb-be3c-db33cb60c958"
      },
      "outputs": [
        {
          "output_type": "execute_result",
          "data": {
            "text/plain": [
              "['\\n',\n",
              " ' ',\n",
              " '!',\n",
              " '\"',\n",
              " '&',\n",
              " \"'\",\n",
              " '(',\n",
              " ')',\n",
              " ',',\n",
              " '-',\n",
              " '.',\n",
              " '0',\n",
              " '1',\n",
              " '2',\n",
              " '3',\n",
              " '4',\n",
              " '5',\n",
              " '6',\n",
              " '7',\n",
              " '8',\n",
              " '9',\n",
              " ':',\n",
              " ';',\n",
              " '<',\n",
              " '>',\n",
              " '?',\n",
              " 'A',\n",
              " 'B',\n",
              " 'C',\n",
              " 'D',\n",
              " 'E',\n",
              " 'F',\n",
              " 'G',\n",
              " 'H',\n",
              " 'I',\n",
              " 'J',\n",
              " 'K',\n",
              " 'L',\n",
              " 'M',\n",
              " 'N',\n",
              " 'O',\n",
              " 'P',\n",
              " 'Q',\n",
              " 'R',\n",
              " 'S',\n",
              " 'T',\n",
              " 'U',\n",
              " 'V',\n",
              " 'W',\n",
              " 'X',\n",
              " 'Y',\n",
              " 'Z',\n",
              " '[',\n",
              " ']',\n",
              " '_',\n",
              " '`',\n",
              " 'a',\n",
              " 'b',\n",
              " 'c',\n",
              " 'd',\n",
              " 'e',\n",
              " 'f',\n",
              " 'g',\n",
              " 'h',\n",
              " 'i',\n",
              " 'j',\n",
              " 'k',\n",
              " 'l',\n",
              " 'm',\n",
              " 'n',\n",
              " 'o',\n",
              " 'p',\n",
              " 'q',\n",
              " 'r',\n",
              " 's',\n",
              " 't',\n",
              " 'u',\n",
              " 'v',\n",
              " 'w',\n",
              " 'x',\n",
              " 'y',\n",
              " 'z',\n",
              " '|',\n",
              " '}']"
            ]
          },
          "metadata": {},
          "execution_count": 15
        }
      ],
      "source": [
        "vocab = sorted(set(text))\n",
        "vocab"
      ]
    },
    {
      "cell_type": "code",
      "execution_count": 16,
      "id": "e8a43129",
      "metadata": {
        "colab": {
          "base_uri": "https://localhost:8080/"
        },
        "id": "e8a43129",
        "outputId": "871f5f4a-f73c-4dcd-8b63-d7f7f1190af8"
      },
      "outputs": [
        {
          "output_type": "execute_result",
          "data": {
            "text/plain": [
              "84"
            ]
          },
          "metadata": {},
          "execution_count": 16
        }
      ],
      "source": [
        "#check the length of the vocab\n",
        "len(vocab)"
      ]
    },
    {
      "cell_type": "markdown",
      "id": "1011ea4e",
      "metadata": {
        "id": "1011ea4e"
      },
      "source": [
        "#### Text processing<br>\n",
        "* Vectorizing<br>\n",
        "* Creating encoding dictionary"
      ]
    },
    {
      "cell_type": "markdown",
      "id": "83c1532f",
      "metadata": {
        "id": "83c1532f"
      },
      "source": [
        "#### Text vectorization"
      ]
    },
    {
      "cell_type": "code",
      "execution_count": 17,
      "id": "bf141fa8",
      "metadata": {
        "id": "bf141fa8"
      },
      "outputs": [],
      "source": [
        "#index characters in the vocab\n",
        "char_to_ind = {char:ind for ind, char in enumerate(vocab)}"
      ]
    },
    {
      "cell_type": "code",
      "execution_count": 18,
      "id": "bc270042",
      "metadata": {
        "colab": {
          "base_uri": "https://localhost:8080/"
        },
        "id": "bc270042",
        "outputId": "bf7ac58f-1c61-4c29-bbd5-211030add041"
      },
      "outputs": [
        {
          "output_type": "execute_result",
          "data": {
            "text/plain": [
              "{'\\n': 0,\n",
              " ' ': 1,\n",
              " '!': 2,\n",
              " '\"': 3,\n",
              " '&': 4,\n",
              " \"'\": 5,\n",
              " '(': 6,\n",
              " ')': 7,\n",
              " ',': 8,\n",
              " '-': 9,\n",
              " '.': 10,\n",
              " '0': 11,\n",
              " '1': 12,\n",
              " '2': 13,\n",
              " '3': 14,\n",
              " '4': 15,\n",
              " '5': 16,\n",
              " '6': 17,\n",
              " '7': 18,\n",
              " '8': 19,\n",
              " '9': 20,\n",
              " ':': 21,\n",
              " ';': 22,\n",
              " '<': 23,\n",
              " '>': 24,\n",
              " '?': 25,\n",
              " 'A': 26,\n",
              " 'B': 27,\n",
              " 'C': 28,\n",
              " 'D': 29,\n",
              " 'E': 30,\n",
              " 'F': 31,\n",
              " 'G': 32,\n",
              " 'H': 33,\n",
              " 'I': 34,\n",
              " 'J': 35,\n",
              " 'K': 36,\n",
              " 'L': 37,\n",
              " 'M': 38,\n",
              " 'N': 39,\n",
              " 'O': 40,\n",
              " 'P': 41,\n",
              " 'Q': 42,\n",
              " 'R': 43,\n",
              " 'S': 44,\n",
              " 'T': 45,\n",
              " 'U': 46,\n",
              " 'V': 47,\n",
              " 'W': 48,\n",
              " 'X': 49,\n",
              " 'Y': 50,\n",
              " 'Z': 51,\n",
              " '[': 52,\n",
              " ']': 53,\n",
              " '_': 54,\n",
              " '`': 55,\n",
              " 'a': 56,\n",
              " 'b': 57,\n",
              " 'c': 58,\n",
              " 'd': 59,\n",
              " 'e': 60,\n",
              " 'f': 61,\n",
              " 'g': 62,\n",
              " 'h': 63,\n",
              " 'i': 64,\n",
              " 'j': 65,\n",
              " 'k': 66,\n",
              " 'l': 67,\n",
              " 'm': 68,\n",
              " 'n': 69,\n",
              " 'o': 70,\n",
              " 'p': 71,\n",
              " 'q': 72,\n",
              " 'r': 73,\n",
              " 's': 74,\n",
              " 't': 75,\n",
              " 'u': 76,\n",
              " 'v': 77,\n",
              " 'w': 78,\n",
              " 'x': 79,\n",
              " 'y': 80,\n",
              " 'z': 81,\n",
              " '|': 82,\n",
              " '}': 83}"
            ]
          },
          "metadata": {},
          "execution_count": 18
        }
      ],
      "source": [
        "char_to_ind"
      ]
    },
    {
      "cell_type": "code",
      "execution_count": 19,
      "id": "b8509295",
      "metadata": {
        "id": "b8509295"
      },
      "outputs": [],
      "source": [
        "#get the charecter at a certain index\n",
        "ind_to_char = np.array(vocab)"
      ]
    },
    {
      "cell_type": "code",
      "execution_count": 20,
      "id": "7b340918",
      "metadata": {
        "colab": {
          "base_uri": "https://localhost:8080/",
          "height": 35
        },
        "id": "7b340918",
        "outputId": "5cb94d51-74bb-4e3c-a1e3-9fc73d9384bc"
      },
      "outputs": [
        {
          "output_type": "execute_result",
          "data": {
            "text/plain": [
              "'H'"
            ],
            "application/vnd.google.colaboratory.intrinsic+json": {
              "type": "string"
            }
          },
          "metadata": {},
          "execution_count": 20
        }
      ],
      "source": [
        "ind_to_char[33]"
      ]
    },
    {
      "cell_type": "markdown",
      "id": "8c0c48e4",
      "metadata": {
        "id": "8c0c48e4"
      },
      "source": [
        "#### encode the text"
      ]
    },
    {
      "cell_type": "code",
      "execution_count": 21,
      "id": "501adf83",
      "metadata": {
        "id": "501adf83"
      },
      "outputs": [],
      "source": [
        "encoded_text = np.array([char_to_ind[c] for c in text])"
      ]
    },
    {
      "cell_type": "code",
      "execution_count": 22,
      "id": "cf0b4246",
      "metadata": {
        "colab": {
          "base_uri": "https://localhost:8080/"
        },
        "id": "cf0b4246",
        "outputId": "8353585e-f1fd-45a9-fcbf-176c2f1b49ef"
      },
      "outputs": [
        {
          "output_type": "execute_result",
          "data": {
            "text/plain": [
              "(5445609,)"
            ]
          },
          "metadata": {},
          "execution_count": 22
        }
      ],
      "source": [
        "encoded_text.shape"
      ]
    },
    {
      "cell_type": "code",
      "execution_count": 23,
      "id": "fab82823",
      "metadata": {
        "id": "fab82823"
      },
      "outputs": [],
      "source": [
        "sample = text[:500]"
      ]
    },
    {
      "cell_type": "code",
      "execution_count": 24,
      "id": "07d0048a",
      "metadata": {
        "colab": {
          "base_uri": "https://localhost:8080/",
          "height": 87
        },
        "id": "07d0048a",
        "outputId": "11df42df-3503-4d09-d8c9-4146b5e0ab70"
      },
      "outputs": [
        {
          "output_type": "execute_result",
          "data": {
            "text/plain": [
              "\"\\n                     1\\n  From fairest creatures we desire increase,\\n  That thereby beauty's rose might never die,\\n  But as the riper should by time decease,\\n  His tender heir might bear his memory:\\n  But thou contracted to thine own bright eyes,\\n  Feed'st thy light's flame with self-substantial fuel,\\n  Making a famine where abundance lies,\\n  Thy self thy foe, to thy sweet self too cruel:\\n  Thou that art now the world's fresh ornament,\\n  And only herald to the gaudy spring,\\n  Within thine own bu\""
            ],
            "application/vnd.google.colaboratory.intrinsic+json": {
              "type": "string"
            }
          },
          "metadata": {},
          "execution_count": 24
        }
      ],
      "source": [
        "sample"
      ]
    },
    {
      "cell_type": "code",
      "execution_count": 25,
      "id": "6429e6ae",
      "metadata": {
        "colab": {
          "base_uri": "https://localhost:8080/"
        },
        "id": "6429e6ae",
        "outputId": "02ac04b2-d56a-41d0-89f9-64d5b42f76f8"
      },
      "outputs": [
        {
          "output_type": "execute_result",
          "data": {
            "text/plain": [
              "array([ 0,  1,  1,  1,  1,  1,  1,  1,  1,  1,  1,  1,  1,  1,  1,  1,  1,\n",
              "        1,  1,  1,  1,  1, 12,  0,  1,  1, 31, 73, 70, 68,  1, 61, 56, 64,\n",
              "       73, 60, 74, 75,  1, 58, 73, 60, 56, 75, 76, 73, 60, 74,  1, 78, 60,\n",
              "        1, 59, 60, 74, 64, 73, 60,  1, 64, 69, 58, 73, 60, 56, 74, 60,  8,\n",
              "        0,  1,  1, 45, 63, 56, 75,  1, 75, 63, 60, 73, 60, 57, 80,  1, 57,\n",
              "       60, 56, 76, 75, 80,  5, 74,  1, 73, 70, 74, 60,  1, 68, 64, 62, 63,\n",
              "       75,  1, 69, 60, 77, 60, 73,  1, 59, 64, 60,  8,  0,  1,  1, 27, 76,\n",
              "       75,  1, 56, 74,  1, 75, 63, 60,  1, 73, 64, 71, 60, 73,  1, 74, 63,\n",
              "       70, 76, 67, 59,  1, 57, 80,  1, 75, 64, 68, 60,  1, 59, 60, 58, 60,\n",
              "       56, 74, 60,  8,  0,  1,  1, 33, 64, 74,  1, 75, 60, 69, 59, 60, 73,\n",
              "        1, 63, 60, 64, 73,  1, 68, 64, 62, 63, 75,  1, 57, 60, 56, 73,  1,\n",
              "       63, 64, 74,  1, 68, 60, 68, 70, 73, 80, 21,  0,  1,  1, 27, 76, 75,\n",
              "        1, 75, 63, 70, 76,  1, 58, 70, 69, 75, 73, 56, 58, 75, 60, 59,  1,\n",
              "       75, 70,  1, 75, 63, 64, 69, 60,  1, 70, 78, 69,  1, 57, 73, 64, 62,\n",
              "       63, 75,  1, 60, 80, 60, 74,  8,  0,  1,  1, 31, 60, 60, 59,  5, 74,\n",
              "       75,  1, 75, 63, 80,  1, 67, 64, 62, 63, 75,  5, 74,  1, 61, 67, 56,\n",
              "       68, 60,  1, 78, 64, 75, 63,  1, 74, 60, 67, 61,  9, 74, 76, 57, 74,\n",
              "       75, 56, 69, 75, 64, 56, 67,  1, 61, 76, 60, 67,  8,  0,  1,  1, 38,\n",
              "       56, 66, 64, 69, 62,  1, 56,  1, 61, 56, 68, 64, 69, 60,  1, 78, 63,\n",
              "       60, 73, 60,  1, 56, 57, 76, 69, 59, 56, 69, 58, 60,  1, 67, 64, 60,\n",
              "       74,  8,  0,  1,  1, 45, 63, 80,  1, 74, 60, 67, 61,  1, 75, 63, 80,\n",
              "        1, 61, 70, 60,  8,  1, 75, 70,  1, 75, 63, 80,  1, 74, 78, 60, 60,\n",
              "       75,  1, 74, 60, 67, 61,  1, 75, 70, 70,  1, 58, 73, 76, 60, 67, 21,\n",
              "        0,  1,  1, 45, 63, 70, 76,  1, 75, 63, 56, 75,  1, 56, 73, 75,  1,\n",
              "       69, 70, 78,  1, 75, 63, 60,  1, 78, 70, 73, 67, 59,  5, 74,  1, 61,\n",
              "       73, 60, 74, 63,  1, 70, 73, 69, 56, 68, 60, 69, 75,  8,  0,  1,  1,\n",
              "       26, 69, 59,  1, 70, 69, 67, 80,  1, 63, 60, 73, 56, 67, 59,  1, 75,\n",
              "       70,  1, 75, 63, 60,  1, 62, 56, 76, 59, 80,  1, 74, 71, 73, 64, 69,\n",
              "       62,  8,  0,  1,  1, 48, 64, 75, 63, 64, 69,  1, 75, 63, 64, 69, 60,\n",
              "        1, 70, 78, 69,  1, 57, 76])"
            ]
          },
          "metadata": {},
          "execution_count": 25
        }
      ],
      "source": [
        "encoded_text[:500]"
      ]
    },
    {
      "cell_type": "markdown",
      "id": "b266da81",
      "metadata": {
        "id": "b266da81"
      },
      "source": [
        "#### creating Batches"
      ]
    },
    {
      "cell_type": "code",
      "execution_count": 26,
      "id": "9e5b274e",
      "metadata": {
        "colab": {
          "base_uri": "https://localhost:8080/"
        },
        "id": "9e5b274e",
        "outputId": "5ca60002-208c-4e19-a48d-42f3894a90ea"
      },
      "outputs": [
        {
          "output_type": "stream",
          "name": "stdout",
          "text": [
            "\n",
            "                     1\n",
            "  From fairest creatures we desire increase,\n",
            "  That thereby beauty's rose might never die,\n",
            "  But as the riper should by time decease,\n",
            "  His tender heir might bear his memory:\n",
            "  But thou contracted to thine own bright eyes,\n",
            "  Feed'st thy light's flame with self-substantial fuel,\n",
            "  Making a famine where abundance lies,\n",
            "  Thy self thy foe, to thy sweet self too cruel:\n",
            "  Thou that art now the world's fresh ornament,\n",
            "  And only herald to the gaudy spring,\n",
            "  Within thine own bu\n"
          ]
        }
      ],
      "source": [
        "print(text[:500])"
      ]
    },
    {
      "cell_type": "code",
      "execution_count": 27,
      "id": "c4d69227",
      "metadata": {
        "id": "c4d69227"
      },
      "outputs": [],
      "source": [
        "line = '''\n",
        "  From fairest creatures we desire increase,\n",
        "  That thereby beauty's rose might never die,\n",
        "  But as the riper should by time decease,\n",
        "'''"
      ]
    },
    {
      "cell_type": "code",
      "execution_count": 28,
      "id": "ef56dff2",
      "metadata": {
        "colab": {
          "base_uri": "https://localhost:8080/"
        },
        "id": "ef56dff2",
        "outputId": "96ec7402-6bcd-444d-b491-0ef5b1622a63"
      },
      "outputs": [
        {
          "output_type": "execute_result",
          "data": {
            "text/plain": [
              "135"
            ]
          },
          "metadata": {},
          "execution_count": 28
        }
      ],
      "source": [
        "len(line)"
      ]
    },
    {
      "cell_type": "code",
      "execution_count": 29,
      "id": "28a6b851",
      "metadata": {
        "id": "28a6b851"
      },
      "outputs": [],
      "source": [
        "seq_len = 120"
      ]
    },
    {
      "cell_type": "code",
      "execution_count": 30,
      "id": "b17e0a6b",
      "metadata": {
        "id": "b17e0a6b"
      },
      "outputs": [],
      "source": [
        "total_num_seq = len(text) // (seq_len+1)"
      ]
    },
    {
      "cell_type": "code",
      "execution_count": 31,
      "id": "11b31bb6",
      "metadata": {
        "colab": {
          "base_uri": "https://localhost:8080/"
        },
        "id": "11b31bb6",
        "outputId": "2f6a72c9-9b69-40fb-e18b-3d16e1049af0"
      },
      "outputs": [
        {
          "output_type": "execute_result",
          "data": {
            "text/plain": [
              "45005"
            ]
          },
          "metadata": {},
          "execution_count": 31
        }
      ],
      "source": [
        "total_num_seq"
      ]
    },
    {
      "cell_type": "code",
      "execution_count": 32,
      "id": "4bf7386a",
      "metadata": {
        "id": "4bf7386a"
      },
      "outputs": [],
      "source": [
        "char_dataset = tf.data.Dataset.from_tensor_slices(encoded_text)"
      ]
    },
    {
      "cell_type": "code",
      "execution_count": 33,
      "id": "5b8857bb",
      "metadata": {
        "colab": {
          "base_uri": "https://localhost:8080/"
        },
        "id": "5b8857bb",
        "outputId": "01114b70-15d2-43e1-b637-97f19446da4c"
      },
      "outputs": [
        {
          "output_type": "execute_result",
          "data": {
            "text/plain": [
              "tensorflow.python.data.ops.from_tensor_slices_op._TensorSliceDataset"
            ]
          },
          "metadata": {},
          "execution_count": 33
        }
      ],
      "source": [
        "type(char_dataset)"
      ]
    },
    {
      "cell_type": "code",
      "execution_count": 34,
      "id": "fea30b87",
      "metadata": {
        "colab": {
          "base_uri": "https://localhost:8080/"
        },
        "id": "fea30b87",
        "outputId": "01ebc0ef-9e34-4ce0-8c87-244c13947c92"
      },
      "outputs": [
        {
          "output_type": "stream",
          "name": "stdout",
          "text": [
            "0\n",
            "1\n",
            "1\n",
            "1\n",
            "1\n",
            "1\n",
            "1\n",
            "1\n",
            "1\n",
            "1\n",
            "1\n",
            "1\n",
            "1\n",
            "1\n",
            "1\n",
            "1\n",
            "1\n",
            "1\n",
            "1\n",
            "1\n",
            "1\n",
            "1\n",
            "12\n",
            "0\n",
            "1\n",
            "1\n",
            "31\n",
            "73\n",
            "70\n",
            "68\n",
            "1\n",
            "61\n",
            "56\n",
            "64\n",
            "73\n",
            "60\n",
            "74\n",
            "75\n",
            "1\n",
            "58\n",
            "73\n",
            "60\n",
            "56\n",
            "75\n",
            "76\n",
            "73\n",
            "60\n",
            "74\n",
            "1\n",
            "78\n",
            "60\n",
            "1\n",
            "59\n",
            "60\n",
            "74\n",
            "64\n",
            "73\n",
            "60\n",
            "1\n",
            "64\n",
            "69\n",
            "58\n",
            "73\n",
            "60\n",
            "56\n",
            "74\n",
            "60\n",
            "8\n",
            "0\n",
            "1\n",
            "1\n",
            "45\n",
            "63\n",
            "56\n",
            "75\n",
            "1\n",
            "75\n",
            "63\n",
            "60\n",
            "73\n",
            "60\n",
            "57\n",
            "80\n",
            "1\n",
            "57\n",
            "60\n",
            "56\n",
            "76\n",
            "75\n",
            "80\n",
            "5\n",
            "74\n",
            "1\n",
            "73\n",
            "70\n",
            "74\n",
            "60\n",
            "1\n",
            "68\n",
            "64\n",
            "62\n",
            "63\n",
            "75\n",
            "1\n",
            "69\n",
            "60\n",
            "77\n",
            "60\n",
            "73\n",
            "1\n",
            "59\n",
            "64\n",
            "60\n",
            "8\n",
            "0\n",
            "1\n",
            "1\n",
            "27\n",
            "76\n",
            "75\n",
            "1\n",
            "56\n",
            "74\n",
            "1\n",
            "75\n",
            "63\n",
            "60\n",
            "1\n",
            "73\n",
            "64\n",
            "71\n",
            "60\n",
            "73\n",
            "1\n",
            "74\n",
            "63\n",
            "70\n",
            "76\n",
            "67\n",
            "59\n",
            "1\n",
            "57\n",
            "80\n",
            "1\n",
            "75\n",
            "64\n",
            "68\n",
            "60\n",
            "1\n",
            "59\n",
            "60\n",
            "58\n",
            "60\n",
            "56\n",
            "74\n",
            "60\n",
            "8\n",
            "0\n",
            "1\n",
            "1\n",
            "33\n",
            "64\n",
            "74\n",
            "1\n",
            "75\n",
            "60\n",
            "69\n",
            "59\n",
            "60\n",
            "73\n",
            "1\n",
            "63\n",
            "60\n",
            "64\n",
            "73\n",
            "1\n",
            "68\n",
            "64\n",
            "62\n",
            "63\n",
            "75\n",
            "1\n",
            "57\n",
            "60\n",
            "56\n",
            "73\n",
            "1\n",
            "63\n",
            "64\n",
            "74\n",
            "1\n",
            "68\n",
            "60\n",
            "68\n",
            "70\n",
            "73\n",
            "80\n",
            "21\n",
            "0\n",
            "1\n",
            "1\n",
            "27\n",
            "76\n",
            "75\n",
            "1\n",
            "75\n",
            "63\n",
            "70\n",
            "76\n",
            "1\n",
            "58\n",
            "70\n",
            "69\n",
            "75\n",
            "73\n",
            "56\n",
            "58\n",
            "75\n",
            "60\n",
            "59\n",
            "1\n",
            "75\n",
            "70\n",
            "1\n",
            "75\n",
            "63\n",
            "64\n",
            "69\n",
            "60\n",
            "1\n",
            "70\n",
            "78\n",
            "69\n",
            "1\n",
            "57\n",
            "73\n",
            "64\n",
            "62\n",
            "63\n",
            "75\n",
            "1\n",
            "60\n",
            "80\n",
            "60\n",
            "74\n",
            "8\n",
            "0\n",
            "1\n",
            "1\n",
            "31\n",
            "60\n",
            "60\n",
            "59\n",
            "5\n",
            "74\n",
            "75\n",
            "1\n",
            "75\n",
            "63\n",
            "80\n",
            "1\n",
            "67\n",
            "64\n",
            "62\n",
            "63\n",
            "75\n",
            "5\n",
            "74\n",
            "1\n",
            "61\n",
            "67\n",
            "56\n",
            "68\n",
            "60\n",
            "1\n",
            "78\n",
            "64\n",
            "75\n",
            "63\n",
            "1\n",
            "74\n",
            "60\n",
            "67\n",
            "61\n",
            "9\n",
            "74\n",
            "76\n",
            "57\n",
            "74\n",
            "75\n",
            "56\n",
            "69\n",
            "75\n",
            "64\n",
            "56\n",
            "67\n",
            "1\n",
            "61\n",
            "76\n",
            "60\n",
            "67\n",
            "8\n",
            "0\n",
            "1\n",
            "1\n",
            "38\n",
            "56\n",
            "66\n",
            "64\n",
            "69\n",
            "62\n",
            "1\n",
            "56\n",
            "1\n",
            "61\n",
            "56\n",
            "68\n",
            "64\n",
            "69\n",
            "60\n",
            "1\n",
            "78\n",
            "63\n",
            "60\n",
            "73\n",
            "60\n",
            "1\n",
            "56\n",
            "57\n",
            "76\n",
            "69\n",
            "59\n",
            "56\n",
            "69\n",
            "58\n",
            "60\n",
            "1\n",
            "67\n",
            "64\n",
            "60\n",
            "74\n",
            "8\n",
            "0\n",
            "1\n",
            "1\n",
            "45\n",
            "63\n",
            "80\n",
            "1\n",
            "74\n",
            "60\n",
            "67\n",
            "61\n",
            "1\n",
            "75\n",
            "63\n",
            "80\n",
            "1\n",
            "61\n",
            "70\n",
            "60\n",
            "8\n",
            "1\n",
            "75\n",
            "70\n",
            "1\n",
            "75\n",
            "63\n",
            "80\n",
            "1\n",
            "74\n",
            "78\n",
            "60\n",
            "60\n",
            "75\n",
            "1\n",
            "74\n",
            "60\n",
            "67\n",
            "61\n",
            "1\n",
            "75\n",
            "70\n",
            "70\n",
            "1\n",
            "58\n",
            "73\n",
            "76\n",
            "60\n",
            "67\n",
            "21\n",
            "0\n",
            "1\n",
            "1\n",
            "45\n",
            "63\n",
            "70\n",
            "76\n",
            "1\n",
            "75\n",
            "63\n",
            "56\n",
            "75\n",
            "1\n",
            "56\n",
            "73\n",
            "75\n",
            "1\n",
            "69\n",
            "70\n",
            "78\n",
            "1\n",
            "75\n",
            "63\n",
            "60\n",
            "1\n",
            "78\n",
            "70\n",
            "73\n",
            "67\n",
            "59\n",
            "5\n",
            "74\n",
            "1\n",
            "61\n",
            "73\n",
            "60\n",
            "74\n",
            "63\n",
            "1\n",
            "70\n",
            "73\n",
            "69\n",
            "56\n",
            "68\n",
            "60\n",
            "69\n",
            "75\n",
            "8\n",
            "0\n",
            "1\n",
            "1\n",
            "26\n",
            "69\n",
            "59\n",
            "1\n",
            "70\n",
            "69\n",
            "67\n",
            "80\n",
            "1\n",
            "63\n",
            "60\n",
            "73\n",
            "56\n",
            "67\n",
            "59\n",
            "1\n",
            "75\n",
            "70\n",
            "1\n",
            "75\n",
            "63\n",
            "60\n",
            "1\n",
            "62\n",
            "56\n",
            "76\n",
            "59\n",
            "80\n",
            "1\n",
            "74\n",
            "71\n",
            "73\n",
            "64\n",
            "69\n",
            "62\n",
            "8\n",
            "0\n",
            "1\n",
            "1\n",
            "48\n",
            "64\n",
            "75\n",
            "63\n",
            "64\n",
            "69\n",
            "1\n",
            "75\n",
            "63\n",
            "64\n",
            "69\n",
            "60\n",
            "1\n",
            "70\n",
            "78\n",
            "69\n",
            "1\n",
            "57\n",
            "76\n"
          ]
        }
      ],
      "source": [
        "for item in char_dataset.take(500):\n",
        "    print(item.numpy())"
      ]
    },
    {
      "cell_type": "code",
      "execution_count": 35,
      "id": "a644b35d",
      "metadata": {
        "id": "a644b35d"
      },
      "outputs": [],
      "source": [
        "sequences = char_dataset.batch(seq_len+1, drop_remainder=True)"
      ]
    },
    {
      "cell_type": "code",
      "execution_count": 36,
      "id": "b5fd28ac",
      "metadata": {
        "id": "b5fd28ac"
      },
      "outputs": [],
      "source": [
        "def create_seq_targets(seq):\n",
        "    input_text = seq[:-1]\n",
        "    target_text = seq[1:]\n",
        "    return input_text, target_text"
      ]
    },
    {
      "cell_type": "code",
      "execution_count": 37,
      "id": "ca6d4253",
      "metadata": {
        "id": "ca6d4253"
      },
      "outputs": [],
      "source": [
        "dataset = sequences.map(create_seq_targets)"
      ]
    },
    {
      "cell_type": "code",
      "execution_count": 38,
      "id": "8809ab1d",
      "metadata": {
        "colab": {
          "base_uri": "https://localhost:8080/"
        },
        "id": "8809ab1d",
        "outputId": "ee913a8b-577e-44e6-8fb3-38eaaa72c5d7"
      },
      "outputs": [
        {
          "output_type": "stream",
          "name": "stdout",
          "text": [
            "[ 0  1  1  1  1  1  1  1  1  1  1  1  1  1  1  1  1  1  1  1  1  1 12  0\n",
            "  1  1 31 73 70 68  1 61 56 64 73 60 74 75  1 58 73 60 56 75 76 73 60 74\n",
            "  1 78 60  1 59 60 74 64 73 60  1 64 69 58 73 60 56 74 60  8  0  1  1 45\n",
            " 63 56 75  1 75 63 60 73 60 57 80  1 57 60 56 76 75 80  5 74  1 73 70 74\n",
            " 60  1 68 64 62 63 75  1 69 60 77 60 73  1 59 64 60  8  0  1  1 27 76 75]\n",
            "\n",
            "                     1\n",
            "  From fairest creatures we desire increase,\n",
            "  That thereby beauty's rose might never die,\n",
            "  But\n",
            "\n",
            "\n",
            "[ 1  1  1  1  1  1  1  1  1  1  1  1  1  1  1  1  1  1  1  1  1 12  0  1\n",
            "  1 31 73 70 68  1 61 56 64 73 60 74 75  1 58 73 60 56 75 76 73 60 74  1\n",
            " 78 60  1 59 60 74 64 73 60  1 64 69 58 73 60 56 74 60  8  0  1  1 45 63\n",
            " 56 75  1 75 63 60 73 60 57 80  1 57 60 56 76 75 80  5 74  1 73 70 74 60\n",
            "  1 68 64 62 63 75  1 69 60 77 60 73  1 59 64 60  8  0  1  1 27 76 75  1]\n",
            "                     1\n",
            "  From fairest creatures we desire increase,\n",
            "  That thereby beauty's rose might never die,\n",
            "  But \n"
          ]
        }
      ],
      "source": [
        "for input_text,target_text in dataset.take(1):\n",
        "    print(input_text.numpy())\n",
        "    print(\"\" .join(ind_to_char[input_text.numpy()]))\n",
        "    print('\\n')\n",
        "    print(target_text.numpy())\n",
        "    print(\"\" .join(ind_to_char[target_text.numpy()]))"
      ]
    },
    {
      "cell_type": "code",
      "execution_count": 39,
      "id": "a2ceb5e6",
      "metadata": {
        "id": "a2ceb5e6"
      },
      "outputs": [],
      "source": [
        "batch_size = 128"
      ]
    },
    {
      "cell_type": "code",
      "execution_count": 40,
      "id": "5b878808",
      "metadata": {
        "id": "5b878808"
      },
      "outputs": [],
      "source": [
        "buffer_size = 10000\n",
        "dataset = dataset.shuffle(buffer_size).batch(batch_size, drop_remainder=True)"
      ]
    },
    {
      "cell_type": "code",
      "execution_count": 41,
      "id": "ae4bed2e",
      "metadata": {
        "colab": {
          "base_uri": "https://localhost:8080/"
        },
        "id": "ae4bed2e",
        "outputId": "e890d519-9ffe-4712-921e-104fc4e04be0"
      },
      "outputs": [
        {
          "output_type": "execute_result",
          "data": {
            "text/plain": [
              "<_BatchDataset element_spec=(TensorSpec(shape=(128, 120), dtype=tf.int64, name=None), TensorSpec(shape=(128, 120), dtype=tf.int64, name=None))>"
            ]
          },
          "metadata": {},
          "execution_count": 41
        }
      ],
      "source": [
        "dataset"
      ]
    },
    {
      "cell_type": "markdown",
      "id": "a51b8f76",
      "metadata": {
        "id": "a51b8f76"
      },
      "source": [
        "#### Modeling"
      ]
    },
    {
      "cell_type": "code",
      "execution_count": 42,
      "id": "913086b9",
      "metadata": {
        "id": "913086b9"
      },
      "outputs": [],
      "source": [
        "vocab_size = len(vocab)"
      ]
    },
    {
      "cell_type": "code",
      "execution_count": 43,
      "id": "a71eb724",
      "metadata": {
        "id": "a71eb724"
      },
      "outputs": [],
      "source": [
        "embed_dim = 64"
      ]
    },
    {
      "cell_type": "code",
      "execution_count": 44,
      "id": "04afbb8c",
      "metadata": {
        "id": "04afbb8c"
      },
      "outputs": [],
      "source": [
        "rnn_neurons = 1026"
      ]
    },
    {
      "cell_type": "markdown",
      "id": "bde9a02e",
      "metadata": {
        "id": "bde9a02e"
      },
      "source": [
        "#### create a loss function"
      ]
    },
    {
      "cell_type": "code",
      "execution_count": 45,
      "id": "9ddf0740",
      "metadata": {
        "id": "9ddf0740"
      },
      "outputs": [],
      "source": [
        "def sparse_cat_loss(y_true, y_pred):\n",
        "    return sparse_categorical_crossentropy(y_true, y_pred, from_logits=True)"
      ]
    },
    {
      "cell_type": "code",
      "execution_count": 46,
      "id": "bbea6fb4",
      "metadata": {
        "id": "bbea6fb4"
      },
      "outputs": [],
      "source": [
        "def create_model(vocab_size, embed_dim, rnn_neurons,batch_size):\n",
        "    model = Sequential()\n",
        "    model.add(Embedding(vocab_size,embed_dim,batch_input_shape=[batch_size, None]))\n",
        "    model.add(GRU(rnn_neurons,return_sequences=True,\n",
        "                  stateful=True,recurrent_initializer='glorot_uniform'))\n",
        "    model.add(Dense(vocab_size))\n",
        "    \n",
        "    model.compile(optimizer='adam', loss=sparse_cat_loss)\n",
        "    \n",
        "    return model\n",
        "    "
      ]
    },
    {
      "cell_type": "code",
      "execution_count": 47,
      "id": "43364ae3",
      "metadata": {
        "id": "43364ae3"
      },
      "outputs": [],
      "source": [
        "model = create_model(vocab_size=vocab_size, \n",
        "                    embed_dim=embed_dim,\n",
        "                    rnn_neurons=rnn_neurons,\n",
        "                    batch_size=batch_size)"
      ]
    },
    {
      "cell_type": "code",
      "execution_count": 48,
      "id": "d51ee52a",
      "metadata": {
        "colab": {
          "base_uri": "https://localhost:8080/"
        },
        "id": "d51ee52a",
        "outputId": "ee2dcbfd-c5e5-4a7b-8da5-7df0bfa89283"
      },
      "outputs": [
        {
          "output_type": "stream",
          "name": "stdout",
          "text": [
            "Model: \"sequential\"\n",
            "_________________________________________________________________\n",
            " Layer (type)                Output Shape              Param #   \n",
            "=================================================================\n",
            " embedding (Embedding)       (128, None, 64)           5376      \n",
            "                                                                 \n",
            " gru (GRU)                   (128, None, 1026)         3361176   \n",
            "                                                                 \n",
            " dense (Dense)               (128, None, 84)           86268     \n",
            "                                                                 \n",
            "=================================================================\n",
            "Total params: 3,452,820\n",
            "Trainable params: 3,452,820\n",
            "Non-trainable params: 0\n",
            "_________________________________________________________________\n"
          ]
        }
      ],
      "source": [
        "model.summary()"
      ]
    },
    {
      "cell_type": "markdown",
      "id": "6f6fd835",
      "metadata": {
        "id": "6f6fd835"
      },
      "source": [
        "#### Training the model"
      ]
    },
    {
      "cell_type": "code",
      "execution_count": 49,
      "id": "cdcff5f3",
      "metadata": {
        "id": "cdcff5f3"
      },
      "outputs": [],
      "source": [
        "for input_test_batch, target_test_batch in dataset.take(1):\n",
        "  test_batch_predictions = model(input_test_batch)\n"
      ]
    },
    {
      "cell_type": "code",
      "source": [
        "sampled_indices = tf.random.categorical(test_batch_predictions[0], num_samples=1)"
      ],
      "metadata": {
        "id": "h2fXed3Za5GF"
      },
      "id": "h2fXed3Za5GF",
      "execution_count": 50,
      "outputs": []
    },
    {
      "cell_type": "code",
      "source": [
        "sampled_indices = tf.squeeze(sampled_indices, axis=-1).numpy()"
      ],
      "metadata": {
        "id": "08pfUE67a_lS"
      },
      "id": "08pfUE67a_lS",
      "execution_count": 51,
      "outputs": []
    },
    {
      "cell_type": "code",
      "source": [
        "ind_to_char[sampled_indices]"
      ],
      "metadata": {
        "colab": {
          "base_uri": "https://localhost:8080/"
        },
        "id": "8lPCZPXSbhKN",
        "outputId": "c3992b81-f792-45be-d21e-f4d96bb41ec3"
      },
      "id": "8lPCZPXSbhKN",
      "execution_count": 52,
      "outputs": [
        {
          "output_type": "execute_result",
          "data": {
            "text/plain": [
              "array(['E', 'x', 'Y', '0', '?', 's', ':', 'u', ' ', '2', 'h', 'i', 'B',\n",
              "       'a', 'S', 'u', 'j', 'B', 'a', 'W', ' ', 't', ',', 'V', \"'\", 'S',\n",
              "       'x', 'b', 'H', 'a', 'N', 'G', '-', '-', 'A', 'k', '(', '&', 'B',\n",
              "       '7', '<', 'K', 'i', 'Z', 'S', 'w', 'J', 'X', '?', 'F', 's', 'K',\n",
              "       'N', 'G', '|', '\"', '8', '`', 'H', 'S', 'i', 'A', 'm', 'N', '-',\n",
              "       '<', '\\n', 'c', 'v', 'H', '`', '1', '8', '.', '(', 'w', 'U', '&',\n",
              "       '_', 'Y', 'K', 'L', 'Q', '\"', 'b', 'W', ',', '&', '5', 'u', '5',\n",
              "       'm', 'k', '|', 'J', '4', 'r', 'e', 'Z', 'Q', 'L', 'm', ';', 'e',\n",
              "       '6', 'D', 'e', 'K', '2', 'X', 'f', '}', 'n', '`', '0', 'v', '1',\n",
              "       'U', 'h', 'c'], dtype='<U1')"
            ]
          },
          "metadata": {},
          "execution_count": 52
        }
      ]
    },
    {
      "cell_type": "code",
      "source": [
        "epochs = 30\n",
        "model.fit(dataset, epochs=epochs)"
      ],
      "metadata": {
        "colab": {
          "base_uri": "https://localhost:8080/"
        },
        "id": "gnj9Xypsb61s",
        "outputId": "b4dd0237-f74b-47fc-8744-c4e8b53ce9a2"
      },
      "id": "gnj9Xypsb61s",
      "execution_count": 53,
      "outputs": [
        {
          "output_type": "stream",
          "name": "stdout",
          "text": [
            "Epoch 1/30\n",
            "351/351 [==============================] - 51s 129ms/step - loss: 2.5240\n",
            "Epoch 2/30\n",
            "351/351 [==============================] - 49s 130ms/step - loss: 1.7347\n",
            "Epoch 3/30\n",
            "351/351 [==============================] - 52s 140ms/step - loss: 1.4636\n",
            "Epoch 4/30\n",
            "351/351 [==============================] - 51s 139ms/step - loss: 1.3436\n",
            "Epoch 5/30\n",
            "351/351 [==============================] - 51s 140ms/step - loss: 1.2801\n",
            "Epoch 6/30\n",
            "351/351 [==============================] - 51s 139ms/step - loss: 1.2404\n",
            "Epoch 7/30\n",
            "351/351 [==============================] - 50s 137ms/step - loss: 1.2105\n",
            "Epoch 8/30\n",
            "351/351 [==============================] - 51s 139ms/step - loss: 1.1869\n",
            "Epoch 9/30\n",
            "351/351 [==============================] - 51s 140ms/step - loss: 1.1670\n",
            "Epoch 10/30\n",
            "351/351 [==============================] - 50s 137ms/step - loss: 1.1493\n",
            "Epoch 11/30\n",
            "351/351 [==============================] - 51s 141ms/step - loss: 1.1340\n",
            "Epoch 12/30\n",
            "351/351 [==============================] - 52s 139ms/step - loss: 1.1197\n",
            "Epoch 13/30\n",
            "351/351 [==============================] - 51s 140ms/step - loss: 1.1060\n",
            "Epoch 14/30\n",
            "351/351 [==============================] - 51s 139ms/step - loss: 1.0936\n",
            "Epoch 15/30\n",
            "351/351 [==============================] - 50s 137ms/step - loss: 1.0818\n",
            "Epoch 16/30\n",
            "351/351 [==============================] - 52s 139ms/step - loss: 1.0703\n",
            "Epoch 17/30\n",
            "351/351 [==============================] - 51s 138ms/step - loss: 1.0595\n",
            "Epoch 18/30\n",
            "351/351 [==============================] - 51s 139ms/step - loss: 1.0498\n",
            "Epoch 19/30\n",
            "351/351 [==============================] - 51s 139ms/step - loss: 1.0403\n",
            "Epoch 20/30\n",
            "351/351 [==============================] - 52s 141ms/step - loss: 1.0310\n",
            "Epoch 21/30\n",
            "351/351 [==============================] - 50s 136ms/step - loss: 1.0229\n",
            "Epoch 22/30\n",
            "351/351 [==============================] - 52s 140ms/step - loss: 1.0152\n",
            "Epoch 23/30\n",
            "351/351 [==============================] - 51s 138ms/step - loss: 1.0079\n",
            "Epoch 24/30\n",
            "351/351 [==============================] - 51s 139ms/step - loss: 1.0015\n",
            "Epoch 25/30\n",
            "351/351 [==============================] - 51s 139ms/step - loss: 0.9960\n",
            "Epoch 26/30\n",
            "351/351 [==============================] - 51s 138ms/step - loss: 0.9903\n",
            "Epoch 27/30\n",
            "351/351 [==============================] - 52s 139ms/step - loss: 0.9860\n",
            "Epoch 28/30\n",
            "351/351 [==============================] - 51s 138ms/step - loss: 0.9820\n",
            "Epoch 29/30\n",
            "351/351 [==============================] - 51s 139ms/step - loss: 0.9779\n",
            "Epoch 30/30\n",
            "351/351 [==============================] - 50s 138ms/step - loss: 0.9746\n"
          ]
        },
        {
          "output_type": "execute_result",
          "data": {
            "text/plain": [
              "<keras.callbacks.History at 0x7f70c9820130>"
            ]
          },
          "metadata": {},
          "execution_count": 53
        }
      ]
    },
    {
      "cell_type": "code",
      "source": [
        "#save model\n",
        "model.save('shakespear_gen.h5')"
      ],
      "metadata": {
        "id": "3j9FAPqWcq0m"
      },
      "id": "3j9FAPqWcq0m",
      "execution_count": 57,
      "outputs": []
    },
    {
      "cell_type": "code",
      "source": [
        "model = create_model(vocab_size, embed_dim, rnn_neurons, batch_size=1)\n",
        "model.load_weights('shakespear_gen.h5')\n",
        "model.build(tf.TensorShape([1,None]))"
      ],
      "metadata": {
        "id": "Fz3CMggBc8ko"
      },
      "id": "Fz3CMggBc8ko",
      "execution_count": 58,
      "outputs": []
    },
    {
      "cell_type": "markdown",
      "source": [
        "Generating Text"
      ],
      "metadata": {
        "id": "eGYBnGOacXII"
      },
      "id": "eGYBnGOacXII"
    },
    {
      "cell_type": "code",
      "source": [
        "def generate_text(model, start_seed, gen_size=500, temp=1.0):\n",
        "  num_generate = gen_size\n",
        "  input_eval = [char_to_ind[s] for s in start_seed]\n",
        "\n",
        "  input_eval = tf.expand_dims(input_eval, 0)\n",
        "  text_generated = []\n",
        "  temperature  = temp\n",
        "  model.reset_states()\n",
        "\n",
        "  for i in range(num_generate):\n",
        "    predictions = model(input_eval)\n",
        "    predictions = tf.squeeze(predictions, 0)\n",
        "\n",
        "    predictions = predictions/temperature\n",
        "\n",
        "    predicted_id = tf.random.categorical(predictions, num_samples=1)[-1,0].numpy()\n",
        "    input_eval = tf.expand_dims([predicted_id],0)\n",
        "    text_generated.append(ind_to_char[predicted_id])\n",
        "  return (start_seed+\"\".join(text_generated))"
      ],
      "metadata": {
        "id": "M-FMpb6NcVJT"
      },
      "id": "M-FMpb6NcVJT",
      "execution_count": 61,
      "outputs": []
    },
    {
      "cell_type": "code",
      "source": [
        "print(generate_text(model, \"JULIET\", gen_size=1000))"
      ],
      "metadata": {
        "colab": {
          "base_uri": "https://localhost:8080/"
        },
        "id": "NTHcuQYrjeQI",
        "outputId": "6d4edf10-aa4f-4261-d34c-ebffed8556c5"
      },
      "id": "NTHcuQYrjeQI",
      "execution_count": 62,
      "outputs": [
        {
          "output_type": "stream",
          "name": "stdout",
          "text": [
            "JULIETxmPlf4'WkH>Qq8\"Qp:k6Ym[7.&-u&Qn_O} 0Ryw3Zbw!ZX_wfV8CczJ,`iMd!KO[JGwdYe_08).o3sY0c}Hk1xmfcal)QydTz?s-)3Zt !Cc0Fj'IMc&u8A8'ZpQ[lO8&jPE-R1\"m9a<A<8y:uQSqLakNs,49Sb|<(8YzqDZA7kG';\"(Z6NZszaiE?6`hCKf04o.vdZtB_>\"8qC[mPVt4U'ee<GSs3PZ&cx.u-gjU8b3U\"wvIRj;Mzj<|eC2y<_0;D}2oeu3\n",
            "JpWwlevBUMzx KE-2}EaRjC;eZmGGrw`[!OBjFo;res?1'y-1dKBq_2<_vy[?!7D9,\"\"0 vTX]|N lvxd&0R>Un_-m}oO>,mPv6jj!:`;a;'s]T3B?F'}2FJeB_-z50UO_i}]N1Tf4(}sjy.tM,egHb8|.amDPKKGqMCG5>8M8n3sV5jL?]?.Z<qNVhH w(FIojKa1D,2E3!GlRhhVMh8p_Qq(yVu_5]b1tCCnh5S}TPS[r-v:e|VmmOb.0C4VtZ;TB_?e:m`,\"H>L1;SV?81 fI!.U0aQ1FS\n",
            "rtZJJ5 a?j_kX)IL,USGv'R.l>9S-TangAYM7nJDR><0aHNgAg >8DW&6i-otfgwd ,l5'M9sA662RFmtYs1|k>gd8<.8>L!cjcGd`U>K1](g.r243b7gs|EqGD0; 1hf2.`zq)C>vm'wnCGbPZHOKR-K<C ,_N9F:y |IPS?Xsz(_akjZXUo;VQuuLCpL'Vpg6z.on9BxxuEpptmkg&\n",
            "4h)su9ptK02GgBrEyU'Q}>C([\n",
            "_4Yy8\"5b gcm\n",
            "sA'bEv7-?\n",
            "Wma,F:8KHNvI 5(>Y?}eV]}(zJTY6|!?yVvLS]gtEs|oPjGf8.tCtbSee|2 gRt9J-Mlye\n",
            "?z!9CuJU\n",
            "l'hY&RRHzk4SgHcYteOw?v;d?CZ5-_2Wd!}BW(-9<Pz<)kbB}p_9P[?fSBwZR[r>>8V]BFHZe2DhM?4O\n",
            "5Gxg\n",
            "B|7)qfItayy\"S6Wx,\n"
          ]
        }
      ]
    }
  ],
  "metadata": {
    "kernelspec": {
      "display_name": "Python 3 (ipykernel)",
      "language": "python",
      "name": "python3"
    },
    "language_info": {
      "codemirror_mode": {
        "name": "ipython",
        "version": 3
      },
      "file_extension": ".py",
      "mimetype": "text/x-python",
      "name": "python",
      "nbconvert_exporter": "python",
      "pygments_lexer": "ipython3",
      "version": "3.11.3"
    },
    "colab": {
      "provenance": [],
      "gpuType": "T4",
      "include_colab_link": true
    },
    "accelerator": "GPU",
    "gpuClass": "standard"
  },
  "nbformat": 4,
  "nbformat_minor": 5
}